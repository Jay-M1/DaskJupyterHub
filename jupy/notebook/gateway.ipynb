{
 "cells": [
  {
   "cell_type": "code",
   "execution_count": 1,
   "id": "e59954ee-f975-4f9f-ab58-09bdd2cd6156",
   "metadata": {},
   "outputs": [
    {
     "data": {
      "text/plain": [
       "Gateway<http://127.0.0.1:8000>"
      ]
     },
     "execution_count": 1,
     "metadata": {},
     "output_type": "execute_result"
    }
   ],
   "source": [
    "from dask_gateway import Gateway\n",
    "gateway = Gateway(\"http://my_jupyterhub-htrocky-1:8000\")\n",
    "gateway.list_clusters()"
   ]
  },
  {
   "cell_type": "code",
   "execution_count": null,
   "id": "1caae99a-65ec-4539-b8d1-4bb648429a0d",
   "metadata": {},
   "outputs": [],
   "source": []
  }
 ],
 "metadata": {
  "kernelspec": {
   "display_name": "Python 3 (ipykernel)",
   "language": "python",
   "name": "python3"
  },
  "language_info": {
   "codemirror_mode": {
    "name": "ipython",
    "version": 3
   },
   "file_extension": ".py",
   "mimetype": "text/x-python",
   "name": "python",
   "nbconvert_exporter": "python",
   "pygments_lexer": "ipython3",
   "version": "3.11.6"
  }
 },
 "nbformat": 4,
 "nbformat_minor": 5
}
