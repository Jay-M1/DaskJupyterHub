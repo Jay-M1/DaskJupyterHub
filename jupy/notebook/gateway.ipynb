{
 "cells": [
  {
   "cell_type": "code",
   "execution_count": null,
   "id": "1caae99a-65ec-4539-b8d1-4bb648429a0d",
   "metadata": {},
   "outputs": [],
   "source": [
    "from dask_gateway import Gateway\n"
   ]
  },
  {
   "cell_type": "code",
   "execution_count": null,
   "id": "ffc7e498",
   "metadata": {},
   "outputs": [],
   "source": [
    "#gateway1 = Gateway(\"http://my_jupyterhub-htrocky-1:8000\")\n",
    "#print(gateway1.list_clusters())"
   ]
  },
  {
   "cell_type": "code",
   "execution_count": null,
   "id": "2e05324c",
   "metadata": {},
   "outputs": [],
   "source": [
    "#gateway2 = Gateway(\"http://my_jupyterhub-htrocky-1:8000\")\n",
    "#cluster = gateway2.new_cluster()\n",
    "#print(gateway2.list_clusters())"
   ]
  }
 ],
 "metadata": {
  "kernelspec": {
   "display_name": "Python 3 (ipykernel)",
   "language": "python",
   "name": "python3"
  },
  "language_info": {
   "codemirror_mode": {
    "name": "ipython",
    "version": 3
   },
   "file_extension": ".py",
   "mimetype": "text/x-python",
   "name": "python",
   "nbconvert_exporter": "python",
   "pygments_lexer": "ipython3",
   "version": "3.11.6"
  }
 },
 "nbformat": 4,
 "nbformat_minor": 5
}
