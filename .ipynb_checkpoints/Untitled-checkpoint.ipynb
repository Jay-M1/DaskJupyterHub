{
 "cells": [
  {
   "cell_type": "code",
   "execution_count": 1,
   "id": "2c0e2578-2c38-4e27-a45a-f199f51766a4",
   "metadata": {},
   "outputs": [
    {
     "name": "stdout",
     "output_type": "stream",
     "text": [
      "[ClusterReport<name=e70454e4bc534fd784ee2d94a50d7dea, status=RUNNING>, ClusterReport<name=2ec2a672683b4c16bae99a2512b8ec8d, status=RUNNING>, ClusterReport<name=a9d6f0bb15de417f88c2e241c95bc3bb, status=RUNNING>]\n"
     ]
    }
   ],
   "source": [
    "from dask_gateway import Gateway\n",
    "gateway = Gateway(\"http://my_jupyterhub-htrocky-1:8000\")\n",
    "cluster = gateway.new_cluster()\n",
    "print(gateway.list_clusters())"
   ]
  },
  {
   "cell_type": "code",
   "execution_count": 2,
   "id": "06e319d5-8c08-4a62-8388-0b22e7c6bde6",
   "metadata": {},
   "outputs": [],
   "source": [
    "cluster = gateway.new_cluster()\n",
    "cluster.scale(2)"
   ]
  },
  {
   "cell_type": "code",
   "execution_count": 3,
   "id": "d307d80c-6036-431a-9d8e-44238dc135ec",
   "metadata": {},
   "outputs": [
    {
     "name": "stdout",
     "output_type": "stream",
     "text": [
      "GatewayCluster<2c37e65cee8049e7a1716480f77d4dbb, status=running>\n"
     ]
    }
   ],
   "source": [
    "print(cluster)\n"
   ]
  },
  {
   "cell_type": "code",
   "execution_count": 5,
   "id": "84dfb954-e178-45c2-a40f-05ef6992db7a",
   "metadata": {},
   "outputs": [
    {
     "data": {
      "text/plain": [
       "{'type': 'Scheduler',\n",
       " 'id': 'Scheduler-76043d14-982e-4499-bee0-ef58bfe99840',\n",
       " 'address': 'tls://127.0.0.1:44631',\n",
       " 'services': {'dashboard': 35497, 'gateway': 45193},\n",
       " 'started': 1751303570.444322,\n",
       " 'workers': {'tls://127.0.0.1:44927': {'type': 'Worker',\n",
       "   'id': '9018732d4d0c4e96b216841d1bc03321',\n",
       "   'host': '127.0.0.1',\n",
       "   'resources': {},\n",
       "   'local_directory': '/tmp/dask-scratch-space/worker-nhf1vnv2',\n",
       "   'name': '9018732d4d0c4e96b216841d1bc03321',\n",
       "   'nthreads': 1,\n",
       "   'memory_limit': 2147483648,\n",
       "   'services': {'dashboard': 41151},\n",
       "   'status': 'init',\n",
       "   'nanny': 'tls://127.0.0.1:33077'},\n",
       "  'tls://127.0.0.1:44981': {'type': 'Worker',\n",
       "   'id': 'da117f87469c49a3aa4981d367dd2669',\n",
       "   'host': '127.0.0.1',\n",
       "   'resources': {},\n",
       "   'local_directory': '/tmp/dask-scratch-space/worker-n35s9in_',\n",
       "   'name': 'da117f87469c49a3aa4981d367dd2669',\n",
       "   'nthreads': 1,\n",
       "   'memory_limit': 2147483648,\n",
       "   'services': {'dashboard': 41843},\n",
       "   'status': 'init',\n",
       "   'nanny': 'tls://127.0.0.1:34745'}}}"
      ]
     },
     "execution_count": 5,
     "metadata": {},
     "output_type": "execute_result"
    }
   ],
   "source": [
    "cluster.scheduler_info"
   ]
  },
  {
   "cell_type": "code",
   "execution_count": null,
   "id": "5c769702-a3d8-46f0-b7d8-382c3f6d7a00",
   "metadata": {},
   "outputs": [],
   "source": [
    "ps aux | grep dask-gateway-server "
   ]
  },
  {
   "cell_type": "code",
   "execution_count": null,
   "id": "56094008-ae0a-4e7b-985d-efb2c59f2562",
   "metadata": {},
   "outputs": [],
   "source": [
    "print(cluster.__class__.__name__)\n",
    "print(cluster.__module__)\n",
    "ps aux | grep dask-gateway-server \n",
    "\n",
    "condor_q -hold\n",
    "condor_q -better-analyze <job-id>\n",
    "print(cluster.__class__.__name__)\n",
    "print(cluster.__module__)\n",
    "\n",
    "gateway.list_profiles()\n"
   ]
  }
 ],
 "metadata": {
  "kernelspec": {
   "display_name": "Python 3 (ipykernel)",
   "language": "python",
   "name": "python3"
  },
  "language_info": {
   "codemirror_mode": {
    "name": "ipython",
    "version": 3
   },
   "file_extension": ".py",
   "mimetype": "text/x-python",
   "name": "python",
   "nbconvert_exporter": "python",
   "pygments_lexer": "ipython3",
   "version": "3.12.10"
  }
 },
 "nbformat": 4,
 "nbformat_minor": 5
}
