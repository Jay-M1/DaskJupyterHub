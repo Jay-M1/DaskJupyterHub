{
 "cells": [
  {
   "cell_type": "code",
   "execution_count": 1,
   "id": "2c0e2578-2c38-4e27-a45a-f199f51766a4",
   "metadata": {},
   "outputs": [
    {
     "name": "stdout",
     "output_type": "stream",
     "text": [
      "[ClusterReport<name=b1a900d27d8d47479126c8240f0183e1, status=RUNNING>]\n"
     ]
    }
   ],
   "source": [
    "from dask_gateway import Gateway\n",
    "gateway = Gateway(\"http://lx5.etp.kit.edu:8000\")\n",
    "cluster = gateway.new_cluster()\n",
    "print(gateway.list_clusters())"
   ]
  },
  {
   "cell_type": "code",
   "execution_count": 2,
   "id": "6da97bea-b57a-4978-8963-736e67d1cb42",
   "metadata": {},
   "outputs": [],
   "source": [
    "cluster.scale(2)"
   ]
  },
  {
   "cell_type": "code",
   "execution_count": 3,
   "id": "3e2890fb-3581-409f-a275-a04c67ab56ad",
   "metadata": {},
   "outputs": [
    {
     "data": {
      "text/plain": [
       "np.float64(1.9619142051604342e-05)"
      ]
     },
     "execution_count": 3,
     "metadata": {},
     "output_type": "execute_result"
    }
   ],
   "source": [
    "import dask.array as da\n",
    "a = da.random.normal(size=(100000, 100000), chunks=(500, 500))\n",
    "a.mean().compute()"
   ]
  },
  {
   "cell_type": "code",
   "execution_count": 5,
   "id": "63a6be23-ac41-4316-9ddd-a909481953a4",
   "metadata": {},
   "outputs": [],
   "source": [
    "from dask.distributed import Client"
   ]
  },
  {
   "cell_type": "code",
   "execution_count": 6,
   "id": "96cdc534-fed9-475e-b056-bbc8b1358948",
   "metadata": {},
   "outputs": [
    {
     "name": "stderr",
     "output_type": "stream",
     "text": [
      "/opt/conda/lib/python3.12/site-packages/distributed/client.py:1590: VersionMismatchWarning: Mismatched versions found\n",
      "\n",
      "+-------------+-----------------+-----------------+-----------------+\n",
      "| Package     | Client          | Scheduler       | Workers         |\n",
      "+-------------+-----------------+-----------------+-----------------+\n",
      "| dask        | 2025.7.0        | 2025.4.1        | 2025.4.1        |\n",
      "| distributed | 2025.7.0        | 2025.4.1        | 2025.4.1        |\n",
      "| lz4         | None            | 4.3.3           | 4.3.3           |\n",
      "| msgpack     | 1.1.1           | 1.1.0           | 1.1.0           |\n",
      "| numpy       | 2.3.0           | 1.26.4          | 1.26.4          |\n",
      "| pandas      | 2.3.0           | 2.2.3           | 2.2.3           |\n",
      "| python      | 3.12.10.final.0 | 3.10.17.final.0 | 3.10.17.final.0 |\n",
      "| tornado     | 6.5.1           | 6.4.2           | 6.4.2           |\n",
      "+-------------+-----------------+-----------------+-----------------+\n",
      "  warnings.warn(version_module.VersionMismatchWarning(msg[0][\"warning\"]))\n"
     ]
    }
   ],
   "source": [
    "client = Client(cluster)"
   ]
  },
  {
   "cell_type": "code",
   "execution_count": 7,
   "id": "8bc868f7-2e36-451c-94d0-9f5442bac952",
   "metadata": {},
   "outputs": [
    {
     "name": "stdout",
     "output_type": "stream",
     "text": [
      "Dashboard: http://lx5.etp.kit.edu:8000/clusters/b358e5b9ad204f9892fb39ad64a8ee7a/status\n"
     ]
    }
   ],
   "source": [
    "print(\"Dashboard:\", cluster.dashboard_link)"
   ]
  },
  {
   "cell_type": "code",
   "execution_count": 4,
   "id": "ccb507c1-cd17-4fdd-818a-311eb99f586d",
   "metadata": {},
   "outputs": [],
   "source": [
    "x = da.random.random((10_000, 10_000), chunks=(2_000, 2_000))\n",
    "y = da.random.random((10_000, 10_000), chunks=(2_000, 2_000))\n",
    "\n",
    "# Matrix multiplication\n",
    "z = x @ y\n",
    "\n",
    "# Trigger computation\n",
    "result = z.mean().compute()"
   ]
  },
  {
   "cell_type": "code",
   "execution_count": 5,
   "id": "932d17bf-29e5-48f8-a952-28677a1e4bc3",
   "metadata": {},
   "outputs": [
    {
     "data": {
      "text/plain": [
       "np.float64(2499.8477238844534)"
      ]
     },
     "execution_count": 5,
     "metadata": {},
     "output_type": "execute_result"
    }
   ],
   "source": [
    "result"
   ]
  },
  {
   "cell_type": "code",
   "execution_count": null,
   "id": "51bb6d81-c60a-418d-ad5d-a8e3db80fd14",
   "metadata": {},
   "outputs": [],
   "source": []
  }
 ],
 "metadata": {
  "kernelspec": {
   "display_name": "Python (System)",
   "language": "python",
   "name": "python3"
  },
  "language_info": {
   "codemirror_mode": {
    "name": "ipython",
    "version": 3
   },
   "file_extension": ".py",
   "mimetype": "text/x-python",
   "name": "python",
   "nbconvert_exporter": "python",
   "pygments_lexer": "ipython3",
   "version": "3.12.10"
  }
 },
 "nbformat": 4,
 "nbformat_minor": 5
}
