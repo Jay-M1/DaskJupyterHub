{
 "cells": [
  {
   "cell_type": "code",
   "execution_count": 1,
   "id": "2c0e2578-2c38-4e27-a45a-f199f51766a4",
   "metadata": {},
   "outputs": [
    {
     "ename": "GatewayClusterError",
     "evalue": "Cluster '79ef73d509994ec4a5fa65e9572d788c' failed to start, see logs for more information",
     "output_type": "error",
     "traceback": [
      "\u001b[31m---------------------------------------------------------------------------\u001b[39m",
      "\u001b[31mGatewayClusterError\u001b[39m                       Traceback (most recent call last)",
      "\u001b[36mCell\u001b[39m\u001b[36m \u001b[39m\u001b[32mIn[1]\u001b[39m\u001b[32m, line 5\u001b[39m\n\u001b[32m      1\u001b[39m \u001b[38;5;28;01mfrom\u001b[39;00m\u001b[38;5;250m \u001b[39m\u001b[34;01mdask_gateway\u001b[39;00m\u001b[38;5;250m \u001b[39m\u001b[38;5;28;01mimport\u001b[39;00m Gateway\n\u001b[32m      3\u001b[39m gateway = Gateway(\u001b[33m\"\u001b[39m\u001b[33mhttp://lx5.etp.kit.edu:8000\u001b[39m\u001b[33m\"\u001b[39m, auth=\u001b[33m\"\u001b[39m\u001b[33mjupyterhub\u001b[39m\u001b[33m\"\u001b[39m)\n\u001b[32m----> \u001b[39m\u001b[32m5\u001b[39m cluster = \u001b[43mgateway\u001b[49m\u001b[43m.\u001b[49m\u001b[43mnew_cluster\u001b[49m\u001b[43m(\u001b[49m\u001b[43m)\u001b[49m\n\u001b[32m      6\u001b[39m \u001b[38;5;28mprint\u001b[39m(gateway.list_clusters())\n",
      "\u001b[36mFile \u001b[39m\u001b[32m/opt/venv312/lib/python3.12/site-packages/dask_gateway/client.py:641\u001b[39m, in \u001b[36mGateway.new_cluster\u001b[39m\u001b[34m(self, cluster_options, shutdown_on_close, **kwargs)\u001b[39m\n\u001b[32m    618\u001b[39m \u001b[38;5;28;01mdef\u001b[39;00m\u001b[38;5;250m \u001b[39m\u001b[34mnew_cluster\u001b[39m(\u001b[38;5;28mself\u001b[39m, cluster_options=\u001b[38;5;28;01mNone\u001b[39;00m, shutdown_on_close=\u001b[38;5;28;01mTrue\u001b[39;00m, **kwargs):\n\u001b[32m    619\u001b[39m \u001b[38;5;250m    \u001b[39m\u001b[33;03m\"\"\"Submit a new cluster to the gateway, and wait for it to be started.\u001b[39;00m\n\u001b[32m    620\u001b[39m \n\u001b[32m    621\u001b[39m \u001b[33;03m    Same as calling ``submit`` and ``connect`` in one go.\u001b[39;00m\n\u001b[32m   (...)\u001b[39m\u001b[32m    639\u001b[39m \u001b[33;03m    cluster : GatewayCluster\u001b[39;00m\n\u001b[32m    640\u001b[39m \u001b[33;03m    \"\"\"\u001b[39;00m\n\u001b[32m--> \u001b[39m\u001b[32m641\u001b[39m     \u001b[38;5;28;01mreturn\u001b[39;00m \u001b[43mGatewayCluster\u001b[49m\u001b[43m(\u001b[49m\n\u001b[32m    642\u001b[39m \u001b[43m        \u001b[49m\u001b[43maddress\u001b[49m\u001b[43m=\u001b[49m\u001b[38;5;28;43mself\u001b[39;49m\u001b[43m.\u001b[49m\u001b[43maddress\u001b[49m\u001b[43m,\u001b[49m\n\u001b[32m    643\u001b[39m \u001b[43m        \u001b[49m\u001b[43mproxy_address\u001b[49m\u001b[43m=\u001b[49m\u001b[38;5;28;43mself\u001b[39;49m\u001b[43m.\u001b[49m\u001b[43mproxy_address\u001b[49m\u001b[43m,\u001b[49m\n\u001b[32m    644\u001b[39m \u001b[43m        \u001b[49m\u001b[43mpublic_address\u001b[49m\u001b[43m=\u001b[49m\u001b[38;5;28;43mself\u001b[39;49m\u001b[43m.\u001b[49m\u001b[43m_public_address\u001b[49m\u001b[43m,\u001b[49m\n\u001b[32m    645\u001b[39m \u001b[43m        \u001b[49m\u001b[43mauth\u001b[49m\u001b[43m=\u001b[49m\u001b[38;5;28;43mself\u001b[39;49m\u001b[43m.\u001b[49m\u001b[43mauth\u001b[49m\u001b[43m,\u001b[49m\n\u001b[32m    646\u001b[39m \u001b[43m        \u001b[49m\u001b[43masynchronous\u001b[49m\u001b[43m=\u001b[49m\u001b[38;5;28;43mself\u001b[39;49m\u001b[43m.\u001b[49m\u001b[43masynchronous\u001b[49m\u001b[43m,\u001b[49m\n\u001b[32m    647\u001b[39m \u001b[43m        \u001b[49m\u001b[43mloop\u001b[49m\u001b[43m=\u001b[49m\u001b[38;5;28;43mself\u001b[39;49m\u001b[43m.\u001b[49m\u001b[43mloop\u001b[49m\u001b[43m,\u001b[49m\n\u001b[32m    648\u001b[39m \u001b[43m        \u001b[49m\u001b[43mcluster_options\u001b[49m\u001b[43m=\u001b[49m\u001b[43mcluster_options\u001b[49m\u001b[43m,\u001b[49m\n\u001b[32m    649\u001b[39m \u001b[43m        \u001b[49m\u001b[43mshutdown_on_close\u001b[49m\u001b[43m=\u001b[49m\u001b[43mshutdown_on_close\u001b[49m\u001b[43m,\u001b[49m\n\u001b[32m    650\u001b[39m \u001b[43m        \u001b[49m\u001b[43m*\u001b[49m\u001b[43m*\u001b[49m\u001b[43mkwargs\u001b[49m\u001b[43m,\u001b[49m\n\u001b[32m    651\u001b[39m \u001b[43m    \u001b[49m\u001b[43m)\u001b[49m\n",
      "\u001b[36mFile \u001b[39m\u001b[32m/opt/venv312/lib/python3.12/site-packages/dask_gateway/client.py:816\u001b[39m, in \u001b[36mGatewayCluster.__init__\u001b[39m\u001b[34m(self, address, proxy_address, public_address, auth, cluster_options, shutdown_on_close, asynchronous, loop, **kwargs)\u001b[39m\n\u001b[32m    804\u001b[39m \u001b[38;5;28;01mdef\u001b[39;00m\u001b[38;5;250m \u001b[39m\u001b[34m__init__\u001b[39m(\n\u001b[32m    805\u001b[39m     \u001b[38;5;28mself\u001b[39m,\n\u001b[32m    806\u001b[39m     address=\u001b[38;5;28;01mNone\u001b[39;00m,\n\u001b[32m   (...)\u001b[39m\u001b[32m    814\u001b[39m     **kwargs,\n\u001b[32m    815\u001b[39m ):\n\u001b[32m--> \u001b[39m\u001b[32m816\u001b[39m     \u001b[38;5;28;43mself\u001b[39;49m\u001b[43m.\u001b[49m\u001b[43m_init_internal\u001b[49m\u001b[43m(\u001b[49m\n\u001b[32m    817\u001b[39m \u001b[43m        \u001b[49m\u001b[43maddress\u001b[49m\u001b[43m=\u001b[49m\u001b[43maddress\u001b[49m\u001b[43m,\u001b[49m\n\u001b[32m    818\u001b[39m \u001b[43m        \u001b[49m\u001b[43mproxy_address\u001b[49m\u001b[43m=\u001b[49m\u001b[43mproxy_address\u001b[49m\u001b[43m,\u001b[49m\n\u001b[32m    819\u001b[39m \u001b[43m        \u001b[49m\u001b[43mpublic_address\u001b[49m\u001b[43m=\u001b[49m\u001b[43mpublic_address\u001b[49m\u001b[43m,\u001b[49m\n\u001b[32m    820\u001b[39m \u001b[43m        \u001b[49m\u001b[43mauth\u001b[49m\u001b[43m=\u001b[49m\u001b[43mauth\u001b[49m\u001b[43m,\u001b[49m\n\u001b[32m    821\u001b[39m \u001b[43m        \u001b[49m\u001b[43mcluster_options\u001b[49m\u001b[43m=\u001b[49m\u001b[43mcluster_options\u001b[49m\u001b[43m,\u001b[49m\n\u001b[32m    822\u001b[39m \u001b[43m        \u001b[49m\u001b[43mcluster_kwargs\u001b[49m\u001b[43m=\u001b[49m\u001b[43mkwargs\u001b[49m\u001b[43m,\u001b[49m\n\u001b[32m    823\u001b[39m \u001b[43m        \u001b[49m\u001b[43mshutdown_on_close\u001b[49m\u001b[43m=\u001b[49m\u001b[43mshutdown_on_close\u001b[49m\u001b[43m,\u001b[49m\n\u001b[32m    824\u001b[39m \u001b[43m        \u001b[49m\u001b[43masynchronous\u001b[49m\u001b[43m=\u001b[49m\u001b[43masynchronous\u001b[49m\u001b[43m,\u001b[49m\n\u001b[32m    825\u001b[39m \u001b[43m        \u001b[49m\u001b[43mloop\u001b[49m\u001b[43m=\u001b[49m\u001b[43mloop\u001b[49m\u001b[43m,\u001b[49m\n\u001b[32m    826\u001b[39m \u001b[43m    \u001b[49m\u001b[43m)\u001b[49m\n",
      "\u001b[36mFile \u001b[39m\u001b[32m/opt/venv312/lib/python3.12/site-packages/dask_gateway/client.py:921\u001b[39m, in \u001b[36mGatewayCluster._init_internal\u001b[39m\u001b[34m(self, address, proxy_address, public_address, auth, cluster_options, cluster_kwargs, shutdown_on_close, asynchronous, loop, name)\u001b[39m\n\u001b[32m    919\u001b[39m     \u001b[38;5;28mself\u001b[39m.status = \u001b[33m\"\u001b[39m\u001b[33mstarting\u001b[39m\u001b[33m\"\u001b[39m\n\u001b[32m    920\u001b[39m \u001b[38;5;28;01mif\u001b[39;00m \u001b[38;5;129;01mnot\u001b[39;00m \u001b[38;5;28mself\u001b[39m.asynchronous:\n\u001b[32m--> \u001b[39m\u001b[32m921\u001b[39m     \u001b[38;5;28;43mself\u001b[39;49m\u001b[43m.\u001b[49m\u001b[43mgateway\u001b[49m\u001b[43m.\u001b[49m\u001b[43msync\u001b[49m\u001b[43m(\u001b[49m\u001b[38;5;28;43mself\u001b[39;49m\u001b[43m.\u001b[49m\u001b[43m_start_internal\u001b[49m\u001b[43m)\u001b[49m\n",
      "\u001b[36mFile \u001b[39m\u001b[32m/opt/venv312/lib/python3.12/site-packages/dask_gateway/client.py:344\u001b[39m, in \u001b[36mGateway.sync\u001b[39m\u001b[34m(self, func, *args, **kwargs)\u001b[39m\n\u001b[32m    340\u001b[39m future = asyncio.run_coroutine_threadsafe(\n\u001b[32m    341\u001b[39m     func(*args, **kwargs), \u001b[38;5;28mself\u001b[39m.loop.asyncio_loop\n\u001b[32m    342\u001b[39m )\n\u001b[32m    343\u001b[39m \u001b[38;5;28;01mtry\u001b[39;00m:\n\u001b[32m--> \u001b[39m\u001b[32m344\u001b[39m     \u001b[38;5;28;01mreturn\u001b[39;00m \u001b[43mfuture\u001b[49m\u001b[43m.\u001b[49m\u001b[43mresult\u001b[49m\u001b[43m(\u001b[49m\u001b[43m)\u001b[49m\n\u001b[32m    345\u001b[39m \u001b[38;5;28;01mexcept\u001b[39;00m \u001b[38;5;167;01mBaseException\u001b[39;00m:\n\u001b[32m    346\u001b[39m     future.cancel()\n",
      "\u001b[36mFile \u001b[39m\u001b[32m/opt/conda/lib/python3.12/concurrent/futures/_base.py:456\u001b[39m, in \u001b[36mFuture.result\u001b[39m\u001b[34m(self, timeout)\u001b[39m\n\u001b[32m    454\u001b[39m     \u001b[38;5;28;01mraise\u001b[39;00m CancelledError()\n\u001b[32m    455\u001b[39m \u001b[38;5;28;01melif\u001b[39;00m \u001b[38;5;28mself\u001b[39m._state == FINISHED:\n\u001b[32m--> \u001b[39m\u001b[32m456\u001b[39m     \u001b[38;5;28;01mreturn\u001b[39;00m \u001b[38;5;28;43mself\u001b[39;49m\u001b[43m.\u001b[49m\u001b[43m__get_result\u001b[49m\u001b[43m(\u001b[49m\u001b[43m)\u001b[49m\n\u001b[32m    457\u001b[39m \u001b[38;5;28;01melse\u001b[39;00m:\n\u001b[32m    458\u001b[39m     \u001b[38;5;28;01mraise\u001b[39;00m \u001b[38;5;167;01mTimeoutError\u001b[39;00m()\n",
      "\u001b[36mFile \u001b[39m\u001b[32m/opt/conda/lib/python3.12/concurrent/futures/_base.py:401\u001b[39m, in \u001b[36mFuture.__get_result\u001b[39m\u001b[34m(self)\u001b[39m\n\u001b[32m    399\u001b[39m \u001b[38;5;28;01mif\u001b[39;00m \u001b[38;5;28mself\u001b[39m._exception:\n\u001b[32m    400\u001b[39m     \u001b[38;5;28;01mtry\u001b[39;00m:\n\u001b[32m--> \u001b[39m\u001b[32m401\u001b[39m         \u001b[38;5;28;01mraise\u001b[39;00m \u001b[38;5;28mself\u001b[39m._exception\n\u001b[32m    402\u001b[39m     \u001b[38;5;28;01mfinally\u001b[39;00m:\n\u001b[32m    403\u001b[39m         \u001b[38;5;66;03m# Break a reference cycle with the exception in self._exception\u001b[39;00m\n\u001b[32m    404\u001b[39m         \u001b[38;5;28mself\u001b[39m = \u001b[38;5;28;01mNone\u001b[39;00m\n",
      "\u001b[36mFile \u001b[39m\u001b[32m/opt/venv312/lib/python3.12/site-packages/dask_gateway/client.py:935\u001b[39m, in \u001b[36mGatewayCluster._start_internal\u001b[39m\u001b[34m(self)\u001b[39m\n\u001b[32m    933\u001b[39m     \u001b[38;5;28mself\u001b[39m._start_task = asyncio.ensure_future(\u001b[38;5;28mself\u001b[39m._start_async())\n\u001b[32m    934\u001b[39m \u001b[38;5;28;01mtry\u001b[39;00m:\n\u001b[32m--> \u001b[39m\u001b[32m935\u001b[39m     \u001b[38;5;28;01mawait\u001b[39;00m \u001b[38;5;28mself\u001b[39m._start_task\n\u001b[32m    936\u001b[39m \u001b[38;5;28;01mexcept\u001b[39;00m \u001b[38;5;167;01mBaseException\u001b[39;00m:\n\u001b[32m    937\u001b[39m     \u001b[38;5;66;03m# On exception, cleanup\u001b[39;00m\n\u001b[32m    938\u001b[39m     \u001b[38;5;28;01mawait\u001b[39;00m \u001b[38;5;28mself\u001b[39m._stop_internal()\n",
      "\u001b[36mFile \u001b[39m\u001b[32m/opt/venv312/lib/python3.12/site-packages/dask_gateway/client.py:953\u001b[39m, in \u001b[36mGatewayCluster._start_async\u001b[39m\u001b[34m(self)\u001b[39m\n\u001b[32m    951\u001b[39m \u001b[38;5;66;03m# Connect to cluster\u001b[39;00m\n\u001b[32m    952\u001b[39m \u001b[38;5;28;01mtry\u001b[39;00m:\n\u001b[32m--> \u001b[39m\u001b[32m953\u001b[39m     report = \u001b[38;5;28;01mawait\u001b[39;00m \u001b[38;5;28mself\u001b[39m.gateway._wait_for_start(\u001b[38;5;28mself\u001b[39m.name)\n\u001b[32m    954\u001b[39m \u001b[38;5;28;01mexcept\u001b[39;00m GatewayClusterError:\n\u001b[32m    955\u001b[39m     \u001b[38;5;28;01mraise\u001b[39;00m\n",
      "\u001b[36mFile \u001b[39m\u001b[32m/opt/venv312/lib/python3.12/site-packages/dask_gateway/client.py:581\u001b[39m, in \u001b[36mGateway._wait_for_start\u001b[39m\u001b[34m(self, cluster_name)\u001b[39m\n\u001b[32m    579\u001b[39m     \u001b[38;5;28;01mreturn\u001b[39;00m report\n\u001b[32m    580\u001b[39m \u001b[38;5;28;01melif\u001b[39;00m report.status \u001b[38;5;129;01mis\u001b[39;00m ClusterStatus.FAILED:\n\u001b[32m--> \u001b[39m\u001b[32m581\u001b[39m     \u001b[38;5;28;01mraise\u001b[39;00m GatewayClusterError(\n\u001b[32m    582\u001b[39m         \u001b[33m\"\u001b[39m\u001b[33mCluster \u001b[39m\u001b[38;5;132;01m%r\u001b[39;00m\u001b[33m failed to start, see logs for \u001b[39m\u001b[33m\"\u001b[39m\n\u001b[32m    583\u001b[39m         \u001b[33m\"\u001b[39m\u001b[33mmore information\u001b[39m\u001b[33m\"\u001b[39m % cluster_name\n\u001b[32m    584\u001b[39m     )\n\u001b[32m    585\u001b[39m \u001b[38;5;28;01melif\u001b[39;00m report.status \u001b[38;5;129;01mis\u001b[39;00m ClusterStatus.STOPPED:\n\u001b[32m    586\u001b[39m     \u001b[38;5;28;01mraise\u001b[39;00m GatewayClusterError(\n\u001b[32m    587\u001b[39m         \u001b[33m\"\u001b[39m\u001b[33mCluster \u001b[39m\u001b[38;5;132;01m%r\u001b[39;00m\u001b[33m is already stopped\u001b[39m\u001b[33m\"\u001b[39m % cluster_name\n\u001b[32m    588\u001b[39m     )\n",
      "\u001b[31mGatewayClusterError\u001b[39m: Cluster '79ef73d509994ec4a5fa65e9572d788c' failed to start, see logs for more information"
     ]
    }
   ],
   "source": [
    "from dask_gateway import Gateway\n",
    "\n",
    "gateway = Gateway(\"http://lx5.etp.kit.edu:8000\", auth=\"jupyterhub\")\n",
    "\n",
    "cluster = gateway.new_cluster()\n",
    "print(gateway.list_clusters())"
   ]
  },
  {
   "cell_type": "code",
   "execution_count": 2,
   "id": "abf3192f-e080-4f74-958b-9c67e5e37701",
   "metadata": {},
   "outputs": [],
   "source": [
    "cluster.shutdown()\n",
    "\n",
    "# Optional: Close the gateway client session\n",
    "gateway.close()"
   ]
  },
  {
   "cell_type": "code",
   "execution_count": 2,
   "id": "6da97bea-b57a-4978-8963-736e67d1cb42",
   "metadata": {},
   "outputs": [],
   "source": [
    "cluster.scale(2)"
   ]
  },
  {
   "cell_type": "code",
   "execution_count": 3,
   "id": "3e2890fb-3581-409f-a275-a04c67ab56ad",
   "metadata": {},
   "outputs": [
    {
     "data": {
      "text/plain": [
       "np.float64(1.9619142051604342e-05)"
      ]
     },
     "execution_count": 3,
     "metadata": {},
     "output_type": "execute_result"
    }
   ],
   "source": [
    "import dask.array as da\n",
    "a = da.random.normal(size=(100000, 100000), chunks=(500, 500))\n",
    "a.mean().compute()"
   ]
  },
  {
   "cell_type": "code",
   "execution_count": 4,
   "id": "d3cfa7c1-55ed-4dd9-af40-69f02b1baa98",
   "metadata": {},
   "outputs": [
    {
     "ename": "AttributeError",
     "evalue": "'GatewayCluster' object has no attribute 'get_info'",
     "output_type": "error",
     "traceback": [
      "\u001b[31m---------------------------------------------------------------------------\u001b[39m",
      "\u001b[31mAttributeError\u001b[39m                            Traceback (most recent call last)",
      "\u001b[36mCell\u001b[39m\u001b[36m \u001b[39m\u001b[32mIn[4]\u001b[39m\u001b[32m, line 1\u001b[39m\n\u001b[32m----> \u001b[39m\u001b[32m1\u001b[39m \u001b[43mcluster\u001b[49m\u001b[43m.\u001b[49m\u001b[43mget_info\u001b[49m()\n",
      "\u001b[31mAttributeError\u001b[39m: 'GatewayCluster' object has no attribute 'get_info'"
     ]
    }
   ],
   "source": [
    "cluster.get_info()"
   ]
  },
  {
   "cell_type": "code",
   "execution_count": 2,
   "id": "63a6be23-ac41-4316-9ddd-a909481953a4",
   "metadata": {},
   "outputs": [],
   "source": [
    "from dask.distributed import Client"
   ]
  },
  {
   "cell_type": "code",
   "execution_count": 3,
   "id": "e60c819e-bb51-49b8-930b-7c7a380eee76",
   "metadata": {},
   "outputs": [
    {
     "name": "stderr",
     "output_type": "stream",
     "text": [
      "/opt/venv312/lib/python3.12/site-packages/distributed/client.py:1579: VersionMismatchWarning: Mismatched versions found\n",
      "\n",
      "+---------+-----------------+-----------------+---------+\n",
      "| Package | Client          | Scheduler       | Workers |\n",
      "+---------+-----------------+-----------------+---------+\n",
      "| lz4     | None            | 4.3.3           | None    |\n",
      "| msgpack | 1.1.1           | 1.1.0           | None    |\n",
      "| python  | 3.12.10.final.0 | 3.10.17.final.0 | None    |\n",
      "| tornado | 6.5.1           | 6.4.2           | None    |\n",
      "+---------+-----------------+-----------------+---------+\n",
      "  warnings.warn(version_module.VersionMismatchWarning(msg[0][\"warning\"]))\n",
      "/opt/venv312/lib/python3.12/site-packages/distributed/client.py:4877: UserWarning: Mismatched versions found\n",
      "\n",
      "+---------+-----------------+-----------------+---------+\n",
      "| Package | Client          | Scheduler       | Workers |\n",
      "+---------+-----------------+-----------------+---------+\n",
      "| lz4     | None            | 4.3.3           | None    |\n",
      "| msgpack | 1.1.1           | 1.1.0           | None    |\n",
      "| python  | 3.12.10.final.0 | 3.10.17.final.0 | None    |\n",
      "| tornado | 6.5.1           | 6.4.2           | None    |\n",
      "+---------+-----------------+-----------------+---------+\n",
      "  warnings.warn(msg[\"warning\"])\n"
     ]
    },
    {
     "data": {
      "text/plain": [
       "{'scheduler': {'host': {'python': '3.10.17.final.0',\n",
       "   'python-bits': 64,\n",
       "   'OS': 'Linux',\n",
       "   'OS-release': '5.15.0-143-generic',\n",
       "   'machine': 'x86_64',\n",
       "   'processor': 'x86_64',\n",
       "   'byteorder': 'little',\n",
       "   'LC_ALL': 'None',\n",
       "   'LANG': 'None'},\n",
       "  'packages': {'python': '3.10.17.final.0',\n",
       "   'dask': '2025.4.1',\n",
       "   'distributed': '2025.4.1',\n",
       "   'msgpack': '1.1.0',\n",
       "   'cloudpickle': '3.1.1',\n",
       "   'tornado': '6.4.2',\n",
       "   'toolz': '1.0.0',\n",
       "   'numpy': '1.26.4',\n",
       "   'pandas': '2.2.3',\n",
       "   'lz4': '4.3.3'}},\n",
       " 'workers': {},\n",
       " 'client': {'host': {'python': '3.12.10.final.0',\n",
       "   'python-bits': 64,\n",
       "   'OS': 'Linux',\n",
       "   'OS-release': '6.8.0-59-generic',\n",
       "   'machine': 'x86_64',\n",
       "   'processor': 'x86_64',\n",
       "   'byteorder': 'little',\n",
       "   'LC_ALL': 'C.UTF-8',\n",
       "   'LANG': 'C.UTF-8'},\n",
       "  'packages': {'python': '3.12.10.final.0',\n",
       "   'dask': '2025.4.1',\n",
       "   'distributed': '2025.4.1',\n",
       "   'msgpack': '1.1.1',\n",
       "   'cloudpickle': '3.1.1',\n",
       "   'tornado': '6.5.1',\n",
       "   'toolz': '1.0.0',\n",
       "   'numpy': '2.3.0',\n",
       "   'pandas': '2.3.0',\n",
       "   'lz4': None}}}"
      ]
     },
     "execution_count": 3,
     "metadata": {},
     "output_type": "execute_result"
    }
   ],
   "source": [
    "client = cluster.get_client()\n",
    "client.get_versions(check=True)"
   ]
  },
  {
   "cell_type": "code",
   "execution_count": 3,
   "id": "96cdc534-fed9-475e-b056-bbc8b1358948",
   "metadata": {},
   "outputs": [
    {
     "name": "stderr",
     "output_type": "stream",
     "text": [
      "/opt/venv312/lib/python3.12/site-packages/distributed/client.py:1579: VersionMismatchWarning: Mismatched versions found\n",
      "\n",
      "+---------+-----------------+-----------------+---------+\n",
      "| Package | Client          | Scheduler       | Workers |\n",
      "+---------+-----------------+-----------------+---------+\n",
      "| lz4     | None            | 4.3.3           | None    |\n",
      "| msgpack | 1.1.1           | 1.1.0           | None    |\n",
      "| python  | 3.12.10.final.0 | 3.10.17.final.0 | None    |\n",
      "| tornado | 6.5.1           | 6.4.2           | None    |\n",
      "+---------+-----------------+-----------------+---------+\n",
      "  warnings.warn(version_module.VersionMismatchWarning(msg[0][\"warning\"]))\n"
     ]
    }
   ],
   "source": [
    "client = Client(cluster)"
   ]
  },
  {
   "cell_type": "code",
   "execution_count": 7,
   "id": "8bc868f7-2e36-451c-94d0-9f5442bac952",
   "metadata": {},
   "outputs": [
    {
     "name": "stdout",
     "output_type": "stream",
     "text": [
      "Dashboard: http://lx5.etp.kit.edu:8000/clusters/b358e5b9ad204f9892fb39ad64a8ee7a/status\n"
     ]
    }
   ],
   "source": [
    "print(\"Dashboard:\", cluster.dashboard_link)"
   ]
  },
  {
   "cell_type": "code",
   "execution_count": 4,
   "id": "ccb507c1-cd17-4fdd-818a-311eb99f586d",
   "metadata": {},
   "outputs": [],
   "source": [
    "x = da.random.random((10_000, 10_000), chunks=(2_000, 2_000))\n",
    "y = da.random.random((10_000, 10_000), chunks=(2_000, 2_000))\n",
    "\n",
    "# Matrix multiplication\n",
    "z = x @ y\n",
    "\n",
    "# Trigger computation\n",
    "result = z.mean().compute()"
   ]
  },
  {
   "cell_type": "code",
   "execution_count": 5,
   "id": "932d17bf-29e5-48f8-a952-28677a1e4bc3",
   "metadata": {},
   "outputs": [
    {
     "data": {
      "text/plain": [
       "np.float64(2499.8477238844534)"
      ]
     },
     "execution_count": 5,
     "metadata": {},
     "output_type": "execute_result"
    }
   ],
   "source": [
    "result"
   ]
  },
  {
   "cell_type": "code",
   "execution_count": 5,
   "id": "51bb6d81-c60a-418d-ad5d-a8e3db80fd14",
   "metadata": {},
   "outputs": [
    {
     "data": {
      "text/plain": [
       "'http://lx5.etp.kit.edu:8000/clusters/39cb532aad0d4858ad1dc870c4320e93/status'"
      ]
     },
     "execution_count": 5,
     "metadata": {},
     "output_type": "execute_result"
    }
   ],
   "source": [
    "cluster.dashboard_link"
   ]
  },
  {
   "cell_type": "code",
   "execution_count": null,
   "id": "72854212-ddd3-4fbe-bfec-5117f4544a7d",
   "metadata": {},
   "outputs": [],
   "source": []
  }
 ],
 "metadata": {
  "kernelspec": {
   "display_name": "Python (System)",
   "language": "python",
   "name": "python3"
  },
  "language_info": {
   "codemirror_mode": {
    "name": "ipython",
    "version": 3
   },
   "file_extension": ".py",
   "mimetype": "text/x-python",
   "name": "python",
   "nbconvert_exporter": "python",
   "pygments_lexer": "ipython3",
   "version": "3.12.10"
  }
 },
 "nbformat": 4,
 "nbformat_minor": 5
}
