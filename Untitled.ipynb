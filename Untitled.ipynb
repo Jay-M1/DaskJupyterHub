{
 "cells": [
  {
   "cell_type": "code",
   "execution_count": 1,
   "id": "2c0e2578-2c38-4e27-a45a-f199f51766a4",
   "metadata": {},
   "outputs": [
    {
     "ename": "GatewayClusterError",
     "evalue": "Cluster '19aa4798f8454a8183fdeb689d6517a7' failed to start, see logs for more information",
     "output_type": "error",
     "traceback": [
      "\u001b[31m---------------------------------------------------------------------------\u001b[39m",
      "\u001b[31mGatewayClusterError\u001b[39m                       Traceback (most recent call last)",
      "\u001b[36mCell\u001b[39m\u001b[36m \u001b[39m\u001b[32mIn[1]\u001b[39m\u001b[32m, line 3\u001b[39m\n\u001b[32m      1\u001b[39m \u001b[38;5;28;01mfrom\u001b[39;00m\u001b[38;5;250m \u001b[39m\u001b[34;01mdask_gateway\u001b[39;00m\u001b[38;5;250m \u001b[39m\u001b[38;5;28;01mimport\u001b[39;00m Gateway\n\u001b[32m      2\u001b[39m gateway = Gateway(\u001b[33m\"\u001b[39m\u001b[33mhttp://my_jupyterhub-htrocky-1:8000\u001b[39m\u001b[33m\"\u001b[39m)\n\u001b[32m----> \u001b[39m\u001b[32m3\u001b[39m cluster = \u001b[43mgateway\u001b[49m\u001b[43m.\u001b[49m\u001b[43mnew_cluster\u001b[49m\u001b[43m(\u001b[49m\u001b[43m)\u001b[49m\n\u001b[32m      4\u001b[39m \u001b[38;5;28mprint\u001b[39m(gateway.list_clusters())\n",
      "\u001b[36mFile \u001b[39m\u001b[32m/opt/conda/lib/python3.12/site-packages/dask_gateway/client.py:641\u001b[39m, in \u001b[36mGateway.new_cluster\u001b[39m\u001b[34m(self, cluster_options, shutdown_on_close, **kwargs)\u001b[39m\n\u001b[32m    618\u001b[39m \u001b[38;5;28;01mdef\u001b[39;00m\u001b[38;5;250m \u001b[39m\u001b[34mnew_cluster\u001b[39m(\u001b[38;5;28mself\u001b[39m, cluster_options=\u001b[38;5;28;01mNone\u001b[39;00m, shutdown_on_close=\u001b[38;5;28;01mTrue\u001b[39;00m, **kwargs):\n\u001b[32m    619\u001b[39m \u001b[38;5;250m    \u001b[39m\u001b[33;03m\"\"\"Submit a new cluster to the gateway, and wait for it to be started.\u001b[39;00m\n\u001b[32m    620\u001b[39m \n\u001b[32m    621\u001b[39m \u001b[33;03m    Same as calling ``submit`` and ``connect`` in one go.\u001b[39;00m\n\u001b[32m   (...)\u001b[39m\u001b[32m    639\u001b[39m \u001b[33;03m    cluster : GatewayCluster\u001b[39;00m\n\u001b[32m    640\u001b[39m \u001b[33;03m    \"\"\"\u001b[39;00m\n\u001b[32m--> \u001b[39m\u001b[32m641\u001b[39m     \u001b[38;5;28;01mreturn\u001b[39;00m \u001b[43mGatewayCluster\u001b[49m\u001b[43m(\u001b[49m\n\u001b[32m    642\u001b[39m \u001b[43m        \u001b[49m\u001b[43maddress\u001b[49m\u001b[43m=\u001b[49m\u001b[38;5;28;43mself\u001b[39;49m\u001b[43m.\u001b[49m\u001b[43maddress\u001b[49m\u001b[43m,\u001b[49m\n\u001b[32m    643\u001b[39m \u001b[43m        \u001b[49m\u001b[43mproxy_address\u001b[49m\u001b[43m=\u001b[49m\u001b[38;5;28;43mself\u001b[39;49m\u001b[43m.\u001b[49m\u001b[43mproxy_address\u001b[49m\u001b[43m,\u001b[49m\n\u001b[32m    644\u001b[39m \u001b[43m        \u001b[49m\u001b[43mpublic_address\u001b[49m\u001b[43m=\u001b[49m\u001b[38;5;28;43mself\u001b[39;49m\u001b[43m.\u001b[49m\u001b[43m_public_address\u001b[49m\u001b[43m,\u001b[49m\n\u001b[32m    645\u001b[39m \u001b[43m        \u001b[49m\u001b[43mauth\u001b[49m\u001b[43m=\u001b[49m\u001b[38;5;28;43mself\u001b[39;49m\u001b[43m.\u001b[49m\u001b[43mauth\u001b[49m\u001b[43m,\u001b[49m\n\u001b[32m    646\u001b[39m \u001b[43m        \u001b[49m\u001b[43masynchronous\u001b[49m\u001b[43m=\u001b[49m\u001b[38;5;28;43mself\u001b[39;49m\u001b[43m.\u001b[49m\u001b[43masynchronous\u001b[49m\u001b[43m,\u001b[49m\n\u001b[32m    647\u001b[39m \u001b[43m        \u001b[49m\u001b[43mloop\u001b[49m\u001b[43m=\u001b[49m\u001b[38;5;28;43mself\u001b[39;49m\u001b[43m.\u001b[49m\u001b[43mloop\u001b[49m\u001b[43m,\u001b[49m\n\u001b[32m    648\u001b[39m \u001b[43m        \u001b[49m\u001b[43mcluster_options\u001b[49m\u001b[43m=\u001b[49m\u001b[43mcluster_options\u001b[49m\u001b[43m,\u001b[49m\n\u001b[32m    649\u001b[39m \u001b[43m        \u001b[49m\u001b[43mshutdown_on_close\u001b[49m\u001b[43m=\u001b[49m\u001b[43mshutdown_on_close\u001b[49m\u001b[43m,\u001b[49m\n\u001b[32m    650\u001b[39m \u001b[43m        \u001b[49m\u001b[43m*\u001b[49m\u001b[43m*\u001b[49m\u001b[43mkwargs\u001b[49m\u001b[43m,\u001b[49m\n\u001b[32m    651\u001b[39m \u001b[43m    \u001b[49m\u001b[43m)\u001b[49m\n",
      "\u001b[36mFile \u001b[39m\u001b[32m/opt/conda/lib/python3.12/site-packages/dask_gateway/client.py:816\u001b[39m, in \u001b[36mGatewayCluster.__init__\u001b[39m\u001b[34m(self, address, proxy_address, public_address, auth, cluster_options, shutdown_on_close, asynchronous, loop, **kwargs)\u001b[39m\n\u001b[32m    804\u001b[39m \u001b[38;5;28;01mdef\u001b[39;00m\u001b[38;5;250m \u001b[39m\u001b[34m__init__\u001b[39m(\n\u001b[32m    805\u001b[39m     \u001b[38;5;28mself\u001b[39m,\n\u001b[32m    806\u001b[39m     address=\u001b[38;5;28;01mNone\u001b[39;00m,\n\u001b[32m   (...)\u001b[39m\u001b[32m    814\u001b[39m     **kwargs,\n\u001b[32m    815\u001b[39m ):\n\u001b[32m--> \u001b[39m\u001b[32m816\u001b[39m     \u001b[38;5;28;43mself\u001b[39;49m\u001b[43m.\u001b[49m\u001b[43m_init_internal\u001b[49m\u001b[43m(\u001b[49m\n\u001b[32m    817\u001b[39m \u001b[43m        \u001b[49m\u001b[43maddress\u001b[49m\u001b[43m=\u001b[49m\u001b[43maddress\u001b[49m\u001b[43m,\u001b[49m\n\u001b[32m    818\u001b[39m \u001b[43m        \u001b[49m\u001b[43mproxy_address\u001b[49m\u001b[43m=\u001b[49m\u001b[43mproxy_address\u001b[49m\u001b[43m,\u001b[49m\n\u001b[32m    819\u001b[39m \u001b[43m        \u001b[49m\u001b[43mpublic_address\u001b[49m\u001b[43m=\u001b[49m\u001b[43mpublic_address\u001b[49m\u001b[43m,\u001b[49m\n\u001b[32m    820\u001b[39m \u001b[43m        \u001b[49m\u001b[43mauth\u001b[49m\u001b[43m=\u001b[49m\u001b[43mauth\u001b[49m\u001b[43m,\u001b[49m\n\u001b[32m    821\u001b[39m \u001b[43m        \u001b[49m\u001b[43mcluster_options\u001b[49m\u001b[43m=\u001b[49m\u001b[43mcluster_options\u001b[49m\u001b[43m,\u001b[49m\n\u001b[32m    822\u001b[39m \u001b[43m        \u001b[49m\u001b[43mcluster_kwargs\u001b[49m\u001b[43m=\u001b[49m\u001b[43mkwargs\u001b[49m\u001b[43m,\u001b[49m\n\u001b[32m    823\u001b[39m \u001b[43m        \u001b[49m\u001b[43mshutdown_on_close\u001b[49m\u001b[43m=\u001b[49m\u001b[43mshutdown_on_close\u001b[49m\u001b[43m,\u001b[49m\n\u001b[32m    824\u001b[39m \u001b[43m        \u001b[49m\u001b[43masynchronous\u001b[49m\u001b[43m=\u001b[49m\u001b[43masynchronous\u001b[49m\u001b[43m,\u001b[49m\n\u001b[32m    825\u001b[39m \u001b[43m        \u001b[49m\u001b[43mloop\u001b[49m\u001b[43m=\u001b[49m\u001b[43mloop\u001b[49m\u001b[43m,\u001b[49m\n\u001b[32m    826\u001b[39m \u001b[43m    \u001b[49m\u001b[43m)\u001b[49m\n",
      "\u001b[36mFile \u001b[39m\u001b[32m/opt/conda/lib/python3.12/site-packages/dask_gateway/client.py:921\u001b[39m, in \u001b[36mGatewayCluster._init_internal\u001b[39m\u001b[34m(self, address, proxy_address, public_address, auth, cluster_options, cluster_kwargs, shutdown_on_close, asynchronous, loop, name)\u001b[39m\n\u001b[32m    919\u001b[39m     \u001b[38;5;28mself\u001b[39m.status = \u001b[33m\"\u001b[39m\u001b[33mstarting\u001b[39m\u001b[33m\"\u001b[39m\n\u001b[32m    920\u001b[39m \u001b[38;5;28;01mif\u001b[39;00m \u001b[38;5;129;01mnot\u001b[39;00m \u001b[38;5;28mself\u001b[39m.asynchronous:\n\u001b[32m--> \u001b[39m\u001b[32m921\u001b[39m     \u001b[38;5;28;43mself\u001b[39;49m\u001b[43m.\u001b[49m\u001b[43mgateway\u001b[49m\u001b[43m.\u001b[49m\u001b[43msync\u001b[49m\u001b[43m(\u001b[49m\u001b[38;5;28;43mself\u001b[39;49m\u001b[43m.\u001b[49m\u001b[43m_start_internal\u001b[49m\u001b[43m)\u001b[49m\n",
      "\u001b[36mFile \u001b[39m\u001b[32m/opt/conda/lib/python3.12/site-packages/dask_gateway/client.py:344\u001b[39m, in \u001b[36mGateway.sync\u001b[39m\u001b[34m(self, func, *args, **kwargs)\u001b[39m\n\u001b[32m    340\u001b[39m future = asyncio.run_coroutine_threadsafe(\n\u001b[32m    341\u001b[39m     func(*args, **kwargs), \u001b[38;5;28mself\u001b[39m.loop.asyncio_loop\n\u001b[32m    342\u001b[39m )\n\u001b[32m    343\u001b[39m \u001b[38;5;28;01mtry\u001b[39;00m:\n\u001b[32m--> \u001b[39m\u001b[32m344\u001b[39m     \u001b[38;5;28;01mreturn\u001b[39;00m \u001b[43mfuture\u001b[49m\u001b[43m.\u001b[49m\u001b[43mresult\u001b[49m\u001b[43m(\u001b[49m\u001b[43m)\u001b[49m\n\u001b[32m    345\u001b[39m \u001b[38;5;28;01mexcept\u001b[39;00m \u001b[38;5;167;01mBaseException\u001b[39;00m:\n\u001b[32m    346\u001b[39m     future.cancel()\n",
      "\u001b[36mFile \u001b[39m\u001b[32m/opt/conda/lib/python3.12/concurrent/futures/_base.py:456\u001b[39m, in \u001b[36mFuture.result\u001b[39m\u001b[34m(self, timeout)\u001b[39m\n\u001b[32m    454\u001b[39m     \u001b[38;5;28;01mraise\u001b[39;00m CancelledError()\n\u001b[32m    455\u001b[39m \u001b[38;5;28;01melif\u001b[39;00m \u001b[38;5;28mself\u001b[39m._state == FINISHED:\n\u001b[32m--> \u001b[39m\u001b[32m456\u001b[39m     \u001b[38;5;28;01mreturn\u001b[39;00m \u001b[38;5;28;43mself\u001b[39;49m\u001b[43m.\u001b[49m\u001b[43m__get_result\u001b[49m\u001b[43m(\u001b[49m\u001b[43m)\u001b[49m\n\u001b[32m    457\u001b[39m \u001b[38;5;28;01melse\u001b[39;00m:\n\u001b[32m    458\u001b[39m     \u001b[38;5;28;01mraise\u001b[39;00m \u001b[38;5;167;01mTimeoutError\u001b[39;00m()\n",
      "\u001b[36mFile \u001b[39m\u001b[32m/opt/conda/lib/python3.12/concurrent/futures/_base.py:401\u001b[39m, in \u001b[36mFuture.__get_result\u001b[39m\u001b[34m(self)\u001b[39m\n\u001b[32m    399\u001b[39m \u001b[38;5;28;01mif\u001b[39;00m \u001b[38;5;28mself\u001b[39m._exception:\n\u001b[32m    400\u001b[39m     \u001b[38;5;28;01mtry\u001b[39;00m:\n\u001b[32m--> \u001b[39m\u001b[32m401\u001b[39m         \u001b[38;5;28;01mraise\u001b[39;00m \u001b[38;5;28mself\u001b[39m._exception\n\u001b[32m    402\u001b[39m     \u001b[38;5;28;01mfinally\u001b[39;00m:\n\u001b[32m    403\u001b[39m         \u001b[38;5;66;03m# Break a reference cycle with the exception in self._exception\u001b[39;00m\n\u001b[32m    404\u001b[39m         \u001b[38;5;28mself\u001b[39m = \u001b[38;5;28;01mNone\u001b[39;00m\n",
      "\u001b[36mFile \u001b[39m\u001b[32m/opt/conda/lib/python3.12/site-packages/dask_gateway/client.py:935\u001b[39m, in \u001b[36mGatewayCluster._start_internal\u001b[39m\u001b[34m(self)\u001b[39m\n\u001b[32m    933\u001b[39m     \u001b[38;5;28mself\u001b[39m._start_task = asyncio.ensure_future(\u001b[38;5;28mself\u001b[39m._start_async())\n\u001b[32m    934\u001b[39m \u001b[38;5;28;01mtry\u001b[39;00m:\n\u001b[32m--> \u001b[39m\u001b[32m935\u001b[39m     \u001b[38;5;28;01mawait\u001b[39;00m \u001b[38;5;28mself\u001b[39m._start_task\n\u001b[32m    936\u001b[39m \u001b[38;5;28;01mexcept\u001b[39;00m \u001b[38;5;167;01mBaseException\u001b[39;00m:\n\u001b[32m    937\u001b[39m     \u001b[38;5;66;03m# On exception, cleanup\u001b[39;00m\n\u001b[32m    938\u001b[39m     \u001b[38;5;28;01mawait\u001b[39;00m \u001b[38;5;28mself\u001b[39m._stop_internal()\n",
      "\u001b[36mFile \u001b[39m\u001b[32m/opt/conda/lib/python3.12/site-packages/dask_gateway/client.py:953\u001b[39m, in \u001b[36mGatewayCluster._start_async\u001b[39m\u001b[34m(self)\u001b[39m\n\u001b[32m    951\u001b[39m \u001b[38;5;66;03m# Connect to cluster\u001b[39;00m\n\u001b[32m    952\u001b[39m \u001b[38;5;28;01mtry\u001b[39;00m:\n\u001b[32m--> \u001b[39m\u001b[32m953\u001b[39m     report = \u001b[38;5;28;01mawait\u001b[39;00m \u001b[38;5;28mself\u001b[39m.gateway._wait_for_start(\u001b[38;5;28mself\u001b[39m.name)\n\u001b[32m    954\u001b[39m \u001b[38;5;28;01mexcept\u001b[39;00m GatewayClusterError:\n\u001b[32m    955\u001b[39m     \u001b[38;5;28;01mraise\u001b[39;00m\n",
      "\u001b[36mFile \u001b[39m\u001b[32m/opt/conda/lib/python3.12/site-packages/dask_gateway/client.py:581\u001b[39m, in \u001b[36mGateway._wait_for_start\u001b[39m\u001b[34m(self, cluster_name)\u001b[39m\n\u001b[32m    579\u001b[39m     \u001b[38;5;28;01mreturn\u001b[39;00m report\n\u001b[32m    580\u001b[39m \u001b[38;5;28;01melif\u001b[39;00m report.status \u001b[38;5;129;01mis\u001b[39;00m ClusterStatus.FAILED:\n\u001b[32m--> \u001b[39m\u001b[32m581\u001b[39m     \u001b[38;5;28;01mraise\u001b[39;00m GatewayClusterError(\n\u001b[32m    582\u001b[39m         \u001b[33m\"\u001b[39m\u001b[33mCluster \u001b[39m\u001b[38;5;132;01m%r\u001b[39;00m\u001b[33m failed to start, see logs for \u001b[39m\u001b[33m\"\u001b[39m\n\u001b[32m    583\u001b[39m         \u001b[33m\"\u001b[39m\u001b[33mmore information\u001b[39m\u001b[33m\"\u001b[39m % cluster_name\n\u001b[32m    584\u001b[39m     )\n\u001b[32m    585\u001b[39m \u001b[38;5;28;01melif\u001b[39;00m report.status \u001b[38;5;129;01mis\u001b[39;00m ClusterStatus.STOPPED:\n\u001b[32m    586\u001b[39m     \u001b[38;5;28;01mraise\u001b[39;00m GatewayClusterError(\n\u001b[32m    587\u001b[39m         \u001b[33m\"\u001b[39m\u001b[33mCluster \u001b[39m\u001b[38;5;132;01m%r\u001b[39;00m\u001b[33m is already stopped\u001b[39m\u001b[33m\"\u001b[39m % cluster_name\n\u001b[32m    588\u001b[39m     )\n",
      "\u001b[31mGatewayClusterError\u001b[39m: Cluster '19aa4798f8454a8183fdeb689d6517a7' failed to start, see logs for more information"
     ]
    }
   ],
   "source": [
    "from dask_gateway import Gateway\n",
    "gateway = Gateway(\"http://my_jupyterhub-htrocky-1:8000\")\n",
    "cluster = gateway.new_cluster()\n",
    "print(gateway.list_clusters())"
   ]
  },
  {
   "cell_type": "code",
   "execution_count": 2,
   "id": "06e319d5-8c08-4a62-8388-0b22e7c6bde6",
   "metadata": {},
   "outputs": [],
   "source": [
    "cluster = gateway.new_cluster()\n",
    "cluster.scale(2)"
   ]
  },
  {
   "cell_type": "code",
   "execution_count": 3,
   "id": "d307d80c-6036-431a-9d8e-44238dc135ec",
   "metadata": {},
   "outputs": [
    {
     "name": "stdout",
     "output_type": "stream",
     "text": [
      "GatewayCluster<2c37e65cee8049e7a1716480f77d4dbb, status=running>\n"
     ]
    }
   ],
   "source": [
    "print(cluster)\n"
   ]
  },
  {
   "cell_type": "code",
   "execution_count": 5,
   "id": "84dfb954-e178-45c2-a40f-05ef6992db7a",
   "metadata": {},
   "outputs": [
    {
     "data": {
      "text/plain": [
       "{'type': 'Scheduler',\n",
       " 'id': 'Scheduler-76043d14-982e-4499-bee0-ef58bfe99840',\n",
       " 'address': 'tls://127.0.0.1:44631',\n",
       " 'services': {'dashboard': 35497, 'gateway': 45193},\n",
       " 'started': 1751303570.444322,\n",
       " 'workers': {'tls://127.0.0.1:44927': {'type': 'Worker',\n",
       "   'id': '9018732d4d0c4e96b216841d1bc03321',\n",
       "   'host': '127.0.0.1',\n",
       "   'resources': {},\n",
       "   'local_directory': '/tmp/dask-scratch-space/worker-nhf1vnv2',\n",
       "   'name': '9018732d4d0c4e96b216841d1bc03321',\n",
       "   'nthreads': 1,\n",
       "   'memory_limit': 2147483648,\n",
       "   'services': {'dashboard': 41151},\n",
       "   'status': 'init',\n",
       "   'nanny': 'tls://127.0.0.1:33077'},\n",
       "  'tls://127.0.0.1:44981': {'type': 'Worker',\n",
       "   'id': 'da117f87469c49a3aa4981d367dd2669',\n",
       "   'host': '127.0.0.1',\n",
       "   'resources': {},\n",
       "   'local_directory': '/tmp/dask-scratch-space/worker-n35s9in_',\n",
       "   'name': 'da117f87469c49a3aa4981d367dd2669',\n",
       "   'nthreads': 1,\n",
       "   'memory_limit': 2147483648,\n",
       "   'services': {'dashboard': 41843},\n",
       "   'status': 'init',\n",
       "   'nanny': 'tls://127.0.0.1:34745'}}}"
      ]
     },
     "execution_count": 5,
     "metadata": {},
     "output_type": "execute_result"
    }
   ],
   "source": [
    "cluster.scheduler_info"
   ]
  },
  {
   "cell_type": "code",
   "execution_count": null,
   "id": "5c769702-a3d8-46f0-b7d8-382c3f6d7a00",
   "metadata": {},
   "outputs": [],
   "source": [
    "ps aux | grep dask-gateway-server "
   ]
  },
  {
   "cell_type": "code",
   "execution_count": null,
   "id": "56094008-ae0a-4e7b-985d-efb2c59f2562",
   "metadata": {},
   "outputs": [],
   "source": [
    "print(cluster.__class__.__name__)\n",
    "print(cluster.__module__)\n",
    "ps aux | grep dask-gateway-server \n",
    "\n",
    "condor_q -hold\n",
    "condor_q -better-analyze <job-id>\n",
    "print(cluster.__class__.__name__)\n",
    "print(cluster.__module__)\n",
    "\n",
    "gateway.list_profiles()\n"
   ]
  }
 ],
 "metadata": {
  "kernelspec": {
   "display_name": "Python 3 (ipykernel)",
   "language": "python",
   "name": "python3"
  },
  "language_info": {
   "codemirror_mode": {
    "name": "ipython",
    "version": 3
   },
   "file_extension": ".py",
   "mimetype": "text/x-python",
   "name": "python",
   "nbconvert_exporter": "python",
   "pygments_lexer": "ipython3",
   "version": "3.12.10"
  }
 },
 "nbformat": 4,
 "nbformat_minor": 5
}
