{
 "cells": [
  {
   "cell_type": "code",
   "execution_count": 1,
   "id": "2c0e2578-2c38-4e27-a45a-f199f51766a4",
   "metadata": {},
   "outputs": [
    {
     "name": "stdout",
     "output_type": "stream",
     "text": [
      "[ClusterReport<name=5eba82d2b17842f4a2a333f9eb1cecb7, status=RUNNING>]\n"
     ]
    }
   ],
   "source": [
    "from dask_gateway import Gateway\n",
    "\n",
    "gateway = Gateway(\"http://lx5.etp.kit.edu:8000\", auth=\"jupyterhub\")\n",
    "\n",
    "cluster = gateway.new_cluster()\n",
    "print(gateway.list_clusters())"
   ]
  },
  {
   "cell_type": "code",
   "execution_count": null,
   "id": "abf3192f-e080-4f74-958b-9c67e5e37701",
   "metadata": {},
   "outputs": [],
   "source": [
    "cluster.shutdown()\n",
    "\n",
    "# Optional: Close the gateway client session\n",
    "gateway.close()"
   ]
  },
  {
   "cell_type": "code",
   "execution_count": 2,
   "id": "6da97bea-b57a-4978-8963-736e67d1cb42",
   "metadata": {},
   "outputs": [],
   "source": [
    "cluster.scale(2)"
   ]
  },
  {
   "cell_type": "code",
   "execution_count": 3,
   "id": "3e2890fb-3581-409f-a275-a04c67ab56ad",
   "metadata": {},
   "outputs": [
    {
     "data": {
      "text/plain": [
       "-1.393391735539354e-05"
      ]
     },
     "execution_count": 3,
     "metadata": {},
     "output_type": "execute_result"
    }
   ],
   "source": [
    "import dask.array as da\n",
    "a = da.random.normal(size=(10000, 10000), chunks=(500, 500))\n",
    "a.mean().compute()"
   ]
  },
  {
   "cell_type": "code",
   "execution_count": 4,
   "id": "63a6be23-ac41-4316-9ddd-a909481953a4",
   "metadata": {},
   "outputs": [],
   "source": [
    "from dask.distributed import Client"
   ]
  },
  {
   "cell_type": "code",
   "execution_count": 5,
   "id": "e60c819e-bb51-49b8-930b-7c7a380eee76",
   "metadata": {},
   "outputs": [],
   "source": [
    "client = cluster.get_client()\n",
    "a = client.get_versions(check=True)"
   ]
  },
  {
   "cell_type": "code",
   "execution_count": 8,
   "id": "a5a5ba7f-0b6d-4b3c-bb85-06e37a1a72d2",
   "metadata": {},
   "outputs": [
    {
     "data": {
      "text/plain": [
       "'tls://129.13.101.128:40829'"
      ]
     },
     "execution_count": 8,
     "metadata": {},
     "output_type": "execute_result"
    }
   ],
   "source": [
    "client.scheduler_info()[\"address\"]"
   ]
  },
  {
   "cell_type": "code",
   "execution_count": 6,
   "id": "b4d10d63-8e71-4904-b94f-84d6ce7c5b58",
   "metadata": {},
   "outputs": [
    {
     "name": "stdout",
     "output_type": "stream",
     "text": [
      "('scheduler', {'host': {'python': '3.10.17.final.0', 'python-bits': 64, 'OS': 'Linux', 'OS-release': '5.15.0-125-generic', 'machine': 'x86_64', 'processor': 'x86_64', 'byteorder': 'little', 'LC_ALL': 'None', 'LANG': 'None'}, 'packages': {'python': '3.10.17.final.0', 'dask': '2025.4.1', 'distributed': '2025.4.1', 'msgpack': '1.1.0', 'cloudpickle': '3.1.1', 'tornado': '6.4.2', 'toolz': '1.0.0', 'numpy': '1.26.4', 'pandas': '2.2.3', 'lz4': '4.3.3'}})\n",
      "\n",
      "('workers', {'tls://129.13.101.129:45951': {'host': {'python': '3.10.17.final.0', 'python-bits': 64, 'OS': 'Linux', 'OS-release': '5.15.0-125-generic', 'machine': 'x86_64', 'processor': 'x86_64', 'byteorder': 'little', 'LC_ALL': 'None', 'LANG': 'None'}, 'packages': {'python': '3.10.17.final.0', 'dask': '2025.4.1', 'distributed': '2025.4.1', 'msgpack': '1.1.0', 'cloudpickle': '3.1.1', 'tornado': '6.4.2', 'toolz': '1.0.0', 'numpy': '1.26.4', 'pandas': '2.2.3', 'lz4': '4.3.3'}}})\n",
      "\n",
      "('client', {'host': {'python': '3.10.17.final.0', 'python-bits': 64, 'OS': 'Linux', 'OS-release': '6.8.0-59-generic', 'machine': 'x86_64', 'processor': 'x86_64', 'byteorder': 'little', 'LC_ALL': 'C.UTF-8', 'LANG': 'C.UTF-8'}, 'packages': {'python': '3.10.17.final.0', 'dask': '2025.4.1', 'distributed': '2025.4.1', 'msgpack': '1.1.0', 'cloudpickle': '3.1.1', 'tornado': '6.4.2', 'toolz': '1.0.0', 'numpy': None, 'pandas': None, 'lz4': '4.3.3'}})\n",
      "\n"
     ]
    }
   ],
   "source": [
    "for keys in a.items():\n",
    "    print(keys)\n",
    "    print()"
   ]
  },
  {
   "cell_type": "code",
   "execution_count": 9,
   "id": "4b6452b1-bd99-41a7-87d2-18bad8b07444",
   "metadata": {},
   "outputs": [
    {
     "data": {
      "text/plain": [
       "'Scheduler-8b0f377e-009f-4332-9ee3-324ba0da8996'"
      ]
     },
     "execution_count": 9,
     "metadata": {},
     "output_type": "execute_result"
    }
   ],
   "source": [
    "client.scheduler_info()[\"id\"]"
   ]
  },
  {
   "cell_type": "code",
   "execution_count": 6,
   "id": "8bc868f7-2e36-451c-94d0-9f5442bac952",
   "metadata": {},
   "outputs": [
    {
     "name": "stdout",
     "output_type": "stream",
     "text": [
      "Dashboard: http://lx5.etp.kit.edu:8000/clusters/5eba82d2b17842f4a2a333f9eb1cecb7/status\n"
     ]
    }
   ],
   "source": [
    "print(\"Dashboard:\", cluster.dashboard_link)"
   ]
  },
  {
   "cell_type": "code",
   "execution_count": 7,
   "id": "ccb507c1-cd17-4fdd-818a-311eb99f586d",
   "metadata": {},
   "outputs": [],
   "source": [
    "x = da.random.random((10_000, 10_000), chunks=(2_000, 2_000))\n",
    "y = da.random.random((10_000, 10_000), chunks=(2_000, 2_000))\n",
    "\n",
    "# Matrix multiplication\n",
    "z = x @ y\n",
    "\n",
    "# Trigger computation\n",
    "result = z.mean().compute()"
   ]
  },
  {
   "cell_type": "code",
   "execution_count": 12,
   "id": "932d17bf-29e5-48f8-a952-28677a1e4bc3",
   "metadata": {},
   "outputs": [
    {
     "data": {
      "text/plain": [
       "2500.063984144696"
      ]
     },
     "execution_count": 12,
     "metadata": {},
     "output_type": "execute_result"
    }
   ],
   "source": [
    "result"
   ]
  },
  {
   "cell_type": "code",
   "execution_count": null,
   "id": "72854212-ddd3-4fbe-bfec-5117f4544a7d",
   "metadata": {},
   "outputs": [],
   "source": []
  }
 ],
 "metadata": {
  "kernelspec": {
   "display_name": "Python 3 (ipykernel)",
   "language": "python",
   "name": "python3"
  },
  "language_info": {
   "codemirror_mode": {
    "name": "ipython",
    "version": 3
   },
   "file_extension": ".py",
   "mimetype": "text/x-python",
   "name": "python",
   "nbconvert_exporter": "python",
   "pygments_lexer": "ipython3",
   "version": "3.10.17"
  }
 },
 "nbformat": 4,
 "nbformat_minor": 5
}
